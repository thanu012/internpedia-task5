{
  "nbformat": 4,
  "nbformat_minor": 0,
  "metadata": {
    "colab": {
      "provenance": [],
      "authorship_tag": "ABX9TyPw1idJi0iHMjkgK8jmpP8o",
      "include_colab_link": true
    },
    "kernelspec": {
      "name": "python3",
      "display_name": "Python 3"
    },
    "language_info": {
      "name": "python"
    }
  },
  "cells": [
    {
      "cell_type": "markdown",
      "metadata": {
        "id": "view-in-github",
        "colab_type": "text"
      },
      "source": [
        "<a href=\"https://colab.research.google.com/github/thanu012/internpedia-task5/blob/main/WORD_COUNT.ipynb\" target=\"_parent\"><img src=\"https://colab.research.google.com/assets/colab-badge.svg\" alt=\"Open In Colab\"/></a>"
      ]
    },
    {
      "cell_type": "code",
      "execution_count": null,
      "metadata": {
        "id": "XEUefRm9SLqz"
      },
      "outputs": [],
      "source": [
        "import string"
      ]
    },
    {
      "cell_type": "code",
      "source": [
        "\n",
        "def count_words(text):\n",
        "    translator = str.maketrans('', '', string.punctuation)\n",
        "    text = text.translate(translator).lower()\n",
        "\n",
        "    words = text.split()\n",
        "    word_count = len(words)\n",
        "    word_freq = {}\n",
        "\n",
        "    for word in words:\n",
        "        word_freq[word] = word_freq.get(word, 0) + 1\n",
        "\n",
        "    return word_count, word_freq"
      ],
      "metadata": {
        "id": "o6O9SNwzSOD6"
      },
      "execution_count": null,
      "outputs": []
    },
    {
      "cell_type": "code",
      "source": [
        "def display_results(word_count, word_freq):\n",
        "    print(f\"\\nTotal number of words: {word_count}\")\n",
        "    print(\"Word frequencies:\")\n",
        "    for word, freq in word_freq.items():\n",
        "        print(f\"{word}: {freq}\")"
      ],
      "metadata": {
        "id": "18l9CE2rSTOD"
      },
      "execution_count": null,
      "outputs": []
    },
    {
      "cell_type": "code",
      "source": [
        "def main():\n",
        "    while True:\n",
        "        text = input(\"enter a text\")\n",
        "        if text:\n",
        "            word_count, word_freq = count_words(text)\n",
        "            display_results(word_count, word_freq)\n",
        "\n",
        "        if input(\"\\nDo you want to input another text? (y/n): \").strip().lower() != 'y':\n",
        "            break"
      ],
      "metadata": {
        "id": "NnBdO4LASWps"
      },
      "execution_count": null,
      "outputs": []
    },
    {
      "cell_type": "code",
      "source": [
        "if __name__ == \"__main__\":\n",
        "    main()"
      ],
      "metadata": {
        "colab": {
          "base_uri": "https://localhost:8080/"
        },
        "id": "XcAzO21BSazd",
        "outputId": "87861720-e3bd-48e1-a663-23b557e9765e"
      },
      "execution_count": null,
      "outputs": [
        {
          "name": "stdout",
          "output_type": "stream",
          "text": [
            "enter a textiam from csm branch\n",
            "\n",
            "Total number of words: 4\n",
            "Word frequencies:\n",
            "iam: 1\n",
            "from: 1\n",
            "csm: 1\n",
            "branch: 1\n",
            "\n",
            "Do you want to input another text? (y/n): n\n"
          ]
        }
      ]
    }
  ]
}